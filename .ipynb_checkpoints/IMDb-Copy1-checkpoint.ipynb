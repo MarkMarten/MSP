{
 "cells": [
  {
   "cell_type": "markdown",
   "metadata": {
    "id": "TS4g5UmgjjFv"
   },
   "source": [
    "# Project A14 KAGGLE - A MOVIE SCORE PREDICTION\n",
    "## Predicting IMDb movie ratings from given parameters\n",
    "Marten Mark, Karl Soosalu, Mark Alexander Helme\n"
   ]
  },
  {
   "cell_type": "markdown",
   "metadata": {
    "id": "nhUHF2OKj357"
   },
   "source": [
    "# All kind of imports"
   ]
  },
  {
   "cell_type": "code",
   "execution_count": null,
   "metadata": {
    "executionInfo": {
     "elapsed": 3042,
     "status": "ok",
     "timestamp": 1607875544741,
     "user": {
      "displayName": "Karl Soosalu",
      "photoUrl": "",
      "userId": "05970396744476146123"
     },
     "user_tz": -120
    },
    "id": "vh-PxsbKju-s"
   },
   "outputs": [],
   "source": [
    "import pandas as pd\n",
    "import numpy as np\n",
    "\n",
    "from sklearn.model_selection import train_test_split\n",
    "from sklearn import preprocessing\n",
    "\n",
    "from sklearn.linear_model import LinearRegression, Lasso, Ridge\n",
    "from sklearn.svm import SVC\n",
    "from sklearn.neighbors import KNeighborsRegressor\n",
    "from sklearn.svm import SVR\n",
    "\n",
    "from sklearn.metrics import accuracy_score, mean_squared_error, mean_absolute_error\n",
    "\n",
    "from keras.layers import Dense, BatchNormalization\n",
    "from keras.models import Sequential\n",
    "from keras.optimizers import SGD"
   ]
  },
  {
   "cell_type": "markdown",
   "metadata": {
    "id": "t0NC69KEjjFy"
   },
   "source": [
    "# Preprocessing"
   ]
  },
  {
   "cell_type": "code",
   "execution_count": null,
   "metadata": {
    "colab": {
     "base_uri": "https://localhost:8080/"
    },
    "executionInfo": {
     "elapsed": 4158,
     "status": "ok",
     "timestamp": 1607875545868,
     "user": {
      "displayName": "Karl Soosalu",
      "photoUrl": "",
      "userId": "05970396744476146123"
     },
     "user_tz": -120
    },
    "id": "rxENGTKqjjGY",
    "outputId": "a409cfd5-3075-4d6e-abfe-4cd352795923"
   },
   "outputs": [],
   "source": [
    "# Reading data\n",
    "movies = pd.read_csv(\"IMDb movies.csv\")"
   ]
  },
  {
   "cell_type": "code",
   "execution_count": null,
   "metadata": {
    "colab": {
     "base_uri": "https://localhost:8080/"
    },
    "executionInfo": {
     "elapsed": 26252,
     "status": "ok",
     "timestamp": 1607875567969,
     "user": {
      "displayName": "Karl Soosalu",
      "photoUrl": "",
      "userId": "05970396744476146123"
     },
     "user_tz": -120
    },
    "id": "7_rCfha1HwTW",
    "outputId": "bb16c4f6-575c-490c-95d1-47b356a70c9b"
   },
   "outputs": [],
   "source": [
    "# Converting date_published into year, month and day\n",
    "movies[\"date_published\"].iloc[83917] = \"2019\" #Replacing anomaly\n",
    "date = lambda x: pd.Series([i for i in x.split('-')])\n",
    "newCols = movies['date_published'].apply(date)\n",
    "newCols = newCols.fillna(0)\n",
    "\n",
    "movies[\"year_new\"] = newCols[0]\n",
    "movies[\"month\"] = newCols[1]\n",
    "movies[\"day\"] = newCols[2]"
   ]
  },
  {
   "cell_type": "code",
   "execution_count": null,
   "metadata": {
    "executionInfo": {
     "elapsed": 26247,
     "status": "ok",
     "timestamp": 1607875567972,
     "user": {
      "displayName": "Karl Soosalu",
      "photoUrl": "",
      "userId": "05970396744476146123"
     },
     "user_tz": -120
    },
    "id": "v0EesMJLz2J6"
   },
   "outputs": [],
   "source": [
    "# Removing columns\n",
    "movies = movies.drop([\"imdb_title_id\", \"title\", \"original_title\", \"year\", \"description\", \"budget\", \"usa_gross_income\", \"worlwide_gross_income\", \"metascore\", \"votes\", \"reviews_from_users\", \"reviews_from_critics\", \"date_published\"], axis=1)"
   ]
  },
  {
   "cell_type": "code",
   "execution_count": null,
   "metadata": {
    "executionInfo": {
     "elapsed": 26243,
     "status": "ok",
     "timestamp": 1607875567973,
     "user": {
      "displayName": "Karl Soosalu",
      "photoUrl": "",
      "userId": "05970396744476146123"
     },
     "user_tz": -120
    },
    "id": "h3JYd7vtEXjK"
   },
   "outputs": [],
   "source": [
    "movies[\"language\"] = movies.language.replace(\"None\", np.nan)"
   ]
  },
  {
   "cell_type": "code",
   "execution_count": null,
   "metadata": {
    "executionInfo": {
     "elapsed": 64878,
     "status": "ok",
     "timestamp": 1607875606612,
     "user": {
      "displayName": "Karl Soosalu",
      "photoUrl": "",
      "userId": "05970396744476146123"
     },
     "user_tz": -120
    },
    "id": "WteJ2SKfkKsW"
   },
   "outputs": [],
   "source": [
    "movies = pd.concat([movies.drop('language', 1), movies['language'].str.get_dummies(sep=\", \")], 1)\n",
    "movies = pd.concat([movies.drop('genre', 1), movies['genre'].str.get_dummies(sep=\", \")], 1)\n",
    "movies = pd.concat([movies.drop('country', 1), movies['country'].str.get_dummies(sep=\", \")], 1)"
   ]
  },
  {
   "cell_type": "code",
   "execution_count": null,
   "metadata": {
    "colab": {
     "base_uri": "https://localhost:8080/",
     "height": 472
    },
    "executionInfo": {
     "elapsed": 65168,
     "status": "ok",
     "timestamp": 1607875606909,
     "user": {
      "displayName": "Karl Soosalu",
      "photoUrl": "",
      "userId": "05970396744476146123"
     },
     "user_tz": -120
    },
    "id": "sy6vm6eqm9f4",
    "outputId": "f3b908df-4efe-49b0-db47-b9951d9e9dc6"
   },
   "outputs": [],
   "source": [
    "movies = movies.drop([\"production_company\", \"director\", \"actors\", \"writer\"], axis=1)\n",
    "movies"
   ]
  },
  {
   "cell_type": "markdown",
   "metadata": {
    "id": "le2vqASdkDGD"
   },
   "source": [
    "# Machine learning models"
   ]
  },
  {
   "cell_type": "code",
   "execution_count": null,
   "metadata": {
    "executionInfo": {
     "elapsed": 70997,
     "status": "ok",
     "timestamp": 1607875612748,
     "user": {
      "displayName": "Karl Soosalu",
      "photoUrl": "",
      "userId": "05970396744476146123"
     },
     "user_tz": -120
    },
    "id": "X2wQ3PB-oFjp"
   },
   "outputs": [],
   "source": [
    "X = movies.drop(\"avg_vote\", axis=1)\n",
    "y = movies.avg_vote\n",
    "\n",
    "# Splitting into train and test sets\n",
    "X_train, X_test, y_train, y_test = train_test_split(X.values, y.values, test_size=0.3, random_state=0)"
   ]
  },
  {
   "cell_type": "markdown",
   "metadata": {
    "id": "jNIRD61jlyso"
   },
   "source": [
    "#### Linear regression"
   ]
  },
  {
   "cell_type": "code",
   "execution_count": null,
   "metadata": {
    "colab": {
     "base_uri": "https://localhost:8080/"
    },
    "executionInfo": {
     "elapsed": 75292,
     "status": "ok",
     "timestamp": 1607875617051,
     "user": {
      "displayName": "Karl Soosalu",
      "photoUrl": "",
      "userId": "05970396744476146123"
     },
     "user_tz": -120
    },
    "id": "pKOxoSkkkBea",
    "outputId": "f681dd3d-387d-4c29-93b2-dbe6322e3c3f"
   },
   "outputs": [],
   "source": [
    "linear = LinearRegression().fit(X_train, y_train)\n",
    "pred_linear = linear.predict(X_test)\n",
    "pred_linear[pred_linear > 10] = 10\n",
    "pred_linear[pred_linear < 0] = 0\n",
    "\n",
    "mae_linear = mean_absolute_error(y_test, pred_linear)\n",
    "print (\"Linear regression mean absolute error (MAE):\", round(mae_linear,4))"
   ]
  },
  {
   "cell_type": "markdown",
   "metadata": {
    "id": "1MfUtY8El8KK"
   },
   "source": [
    "#### Lasso"
   ]
  },
  {
   "cell_type": "code",
   "execution_count": null,
   "metadata": {
    "colab": {
     "base_uri": "https://localhost:8080/"
    },
    "executionInfo": {
     "elapsed": 79790,
     "status": "ok",
     "timestamp": 1607875621558,
     "user": {
      "displayName": "Karl Soosalu",
      "photoUrl": "",
      "userId": "05970396744476146123"
     },
     "user_tz": -120
    },
    "id": "NxlsvTymlwR6",
    "outputId": "4bda83b0-3dcd-45b2-860a-20316b141a73"
   },
   "outputs": [],
   "source": [
    "lasso= Lasso().fit(X_train, y_train)\n",
    "pred_lasso = lasso.predict(X_test)\n",
    "pred_lasso[pred_lasso > 10] = 10\n",
    "pred_lasso[pred_lasso < 0] = 0\n",
    "\n",
    "mae_lasso = mean_absolute_error(y_test, pred_lasso)\n",
    "print (\"Lasso mean absolute error (MAE):\", round(mae_lasso,4))"
   ]
  },
  {
   "cell_type": "markdown",
   "metadata": {
    "id": "IpAnFBq4n-K5"
   },
   "source": [
    "#### K nearest neighbor regression"
   ]
  },
  {
   "cell_type": "code",
   "execution_count": null,
   "metadata": {
    "colab": {
     "base_uri": "https://localhost:8080/"
    },
    "executionInfo": {
     "elapsed": 110849,
     "status": "ok",
     "timestamp": 1607875652627,
     "user": {
      "displayName": "Karl Soosalu",
      "photoUrl": "",
      "userId": "05970396744476146123"
     },
     "user_tz": -120
    },
    "id": "viq76lkbnUKA",
    "outputId": "2a5c87af-97ba-4a05-bb7b-9a79d3918ef5"
   },
   "outputs": [],
   "source": [
    "neighbors= KNeighborsRegressor().fit(X_train, y_train)\n",
    "pred_neighbors = neighbors.predict(X_test)\n",
    "pred_neighbors[pred_neighbors > 10] = 10\n",
    "pred_neighbors[pred_neighbors < 0] = 0\n",
    "\n",
    "mae_neighbors = mean_absolute_error(y_test, pred_neighbors)\n",
    "print (\"Nearest neighbors mean absolute error (MAE):\", round(mae_neighbors,4))"
   ]
  },
  {
   "cell_type": "markdown",
   "metadata": {
    "id": "eHcfO67dvsb_"
   },
   "source": [
    "#### Ridge"
   ]
  },
  {
   "cell_type": "code",
   "execution_count": null,
   "metadata": {
    "colab": {
     "base_uri": "https://localhost:8080/"
    },
    "executionInfo": {
     "elapsed": 113028,
     "status": "ok",
     "timestamp": 1607875654814,
     "user": {
      "displayName": "Karl Soosalu",
      "photoUrl": "",
      "userId": "05970396744476146123"
     },
     "user_tz": -120
    },
    "id": "e_GVJtYUvbot",
    "outputId": "367b58cb-aa74-4e35-c237-0a977dad1f66"
   },
   "outputs": [],
   "source": [
    "ridge= Ridge().fit(X_train, y_train)\n",
    "pred_ridge = ridge.predict(X_test)\n",
    "pred_ridge[pred_ridge > 10] = 10\n",
    "pred_ridge[pred_ridge < 0] = 0\n",
    "\n",
    "mae_ridge = mean_absolute_error(y_test, pred_ridge)\n",
    "print (\"Ridge mean absolute error (MAE):\", round(mae_ridge,4))"
   ]
  },
  {
   "cell_type": "markdown",
   "metadata": {
    "id": "rFv4hDhXkSRq"
   },
   "source": [
    "# Experimenting with neural networks"
   ]
  },
  {
   "cell_type": "code",
   "execution_count": null,
   "metadata": {
    "colab": {
     "base_uri": "https://localhost:8080/"
    },
    "id": "lQhYQqzv5hJu",
    "outputId": "eeb08668-3c55-4d90-a6a9-d19f7b516b2b"
   },
   "outputs": [],
   "source": [
    "X = movies.drop(\"avg_vote\", axis=1)\n",
    "y = movies[[\"avg_vote\"]]\n",
    "\n",
    "# Normalization\n",
    "scalerX= preprocessing.MinMaxScaler()\n",
    "X[['duration',\t'year_new',\t'month',\t'day']] = scalerX.fit_transform(X[['duration',\t'year_new',\t'month',\t'day']])\n",
    "scalery= preprocessing.MinMaxScaler()\n",
    "y = scalery.fit_transform(y[['avg_vote']])\n",
    "\n",
    "X_train, X_test, y_train, y_test = train_test_split(X, y, test_size=0.3, random_state=0)\n",
    "\n",
    "model = Sequential()\n",
    "model.add(Dense(64, activation=\"tanh\", input_shape=(X_train.shape[1],)))\n",
    "model.add(BatchNormalization())\n",
    "model.add(Dense(32, activation=\"tanh\"))\n",
    "model.add(BatchNormalization())\n",
    "model.add(Dense(16, activation=\"selu\"))\n",
    "model.add(BatchNormalization())\n",
    "model.add(Dense(7, activation=\"linear\"))\n",
    "model.add(Dense(1, activation=\"linear\"))\n",
    "model.compile(loss=\"mean_squared_error\", optimizer=\"sgd\")\n",
    "model.summary()"
   ]
  },
  {
   "cell_type": "code",
   "execution_count": null,
   "metadata": {
    "id": "GmPwQ5pA6hIG"
   },
   "outputs": [],
   "source": [
    "model.fit(X_train, y_train, epochs=4, validation_data=(X_test, y_test), batch_size=256, verbose=True)\n",
    "\n",
    "y_pred = model.predict(X_test)\n",
    "y_pred = scalery.inverse_transform(y_pred)\n",
    "y_test = scalery.inverse_transform(y_test)\n",
    "\n",
    "mae_neural = mean_absolute_error(y_test, y_pred)\n",
    "print (\"Neural networks mean absolute error (MAE):\", round(mae_neural,4))"
   ]
  },
  {
   "cell_type": "markdown",
   "metadata": {
    "id": "6rUw6rBK03_S"
   },
   "source": [
    "#### Summary"
   ]
  },
  {
   "cell_type": "code",
   "execution_count": null,
   "metadata": {
    "id": "6TYrfiC02Tg_"
   },
   "outputs": [],
   "source": [
    "#Graph\n",
    "import matplotlib.pyplot as plt\n",
    "import matplotlib\n",
    "dframe_linear=round(mae_linear,4)\n",
    "dframe_lasso=round(mae_lasso,4)\n",
    "dframe_neighbors=round(mae_neighbors,4)\n",
    "dframe_ridge=round(mae_ridge,4)\n",
    "dframe_neural=round(mae_neural,4)\n",
    "\n",
    "\n",
    "method_results=[dframe_ridge,dframe_linear,dframe_lasso,dframe_neighbors]\n",
    "method_names=[\"Ridge\",\"Linear Regression\",\"Lasso\",\"K nearest neighbor\"]\n",
    "\n",
    "\n",
    "plt.rcParams['figure.figsize'] = (10,6)\n",
    "matplotlib.style.use('ggplot')\n",
    "dframe=pd.DataFrame({'Method':method_names, 'Mean absolute error':method_results})\n",
    "dframe.sort_values('Mean absolute error',ascending=True).plot.bar(x='Method',y='Mean absolute error',rot=0)\n"
   ]
  },
  {
   "cell_type": "code",
   "execution_count": null,
   "metadata": {},
   "outputs": [],
   "source": [
    "import seaborn as sns\n",
    "\n",
    "movies_copy = movies.copy()\n",
    "movies_copy = movies_copy.sort_values(by='year_new')\n",
    "\n",
    "plt.figure(figsize=(10,20))\n",
    "ax = sns.histplot(x = 'avg_vote', y = 'year_new', data = movies_copy)\n",
    "plt.show()"
   ]
  },
  {
   "cell_type": "code",
   "execution_count": null,
   "metadata": {},
   "outputs": [],
   "source": [
    "movies_copy = movies_copy.sort_values(by='duration')\n",
    "\n",
    "plt.figure(figsize=(10,20))\n",
    "ax = sns.histplot(x = 'avg_vote', y = 'duration', data = movies_copy, color = '#e377c2')\n",
    "plt.ylim(40, 200)\n",
    "plt.show()"
   ]
  }
 ],
 "metadata": {
  "colab": {
   "collapsed_sections": [
    "7Y0DzE59jjHo",
    "yOBlEOGTjjHt",
    "4NtZHO9SjjHw",
    "YYg34BqqjjH4",
    "4ufaBL_njjH4"
   ],
   "name": "IMDb.ipynb",
   "provenance": [],
   "toc_visible": true
  },
  "kernelspec": {
   "display_name": "Python 3",
   "language": "python",
   "name": "python3"
  },
  "language_info": {
   "codemirror_mode": {
    "name": "ipython",
    "version": 3
   },
   "file_extension": ".py",
   "mimetype": "text/x-python",
   "name": "python",
   "nbconvert_exporter": "python",
   "pygments_lexer": "ipython3",
   "version": "3.7.4"
  }
 },
 "nbformat": 4,
 "nbformat_minor": 1
}
