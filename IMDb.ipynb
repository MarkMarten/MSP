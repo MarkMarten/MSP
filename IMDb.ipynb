{
 "cells": [
  {
   "cell_type": "markdown",
   "metadata": {
    "id": "TS4g5UmgjjFv"
   },
   "source": [
    "# Project A14 KAGGLE - A MOVIE SCORE PREDICTION\n",
    "## Predicting IMDb movie ratings from given parameters\n",
    "Marten Mark, Karl Soosalu, Mark Alexander Helme\n"
   ]
  },
  {
   "cell_type": "markdown",
   "metadata": {
    "id": "nhUHF2OKj357"
   },
   "source": [
    "# All kind of imports"
   ]
  },
  {
   "cell_type": "code",
   "execution_count": 1,
   "metadata": {
    "executionInfo": {
     "elapsed": 3042,
     "status": "ok",
     "timestamp": 1607875544741,
     "user": {
      "displayName": "Karl Soosalu",
      "photoUrl": "",
      "userId": "05970396744476146123"
     },
     "user_tz": -120
    },
    "id": "vh-PxsbKju-s"
   },
   "outputs": [
    {
     "name": "stderr",
     "output_type": "stream",
     "text": [
      "Using TensorFlow backend.\n",
      "C:\\Users\\Marten\\anaconda3\\lib\\site-packages\\tensorflow\\python\\framework\\dtypes.py:516: FutureWarning: Passing (type, 1) or '1type' as a synonym of type is deprecated; in a future version of numpy, it will be understood as (type, (1,)) / '(1,)type'.\n",
      "  _np_qint8 = np.dtype([(\"qint8\", np.int8, 1)])\n",
      "C:\\Users\\Marten\\anaconda3\\lib\\site-packages\\tensorflow\\python\\framework\\dtypes.py:517: FutureWarning: Passing (type, 1) or '1type' as a synonym of type is deprecated; in a future version of numpy, it will be understood as (type, (1,)) / '(1,)type'.\n",
      "  _np_quint8 = np.dtype([(\"quint8\", np.uint8, 1)])\n",
      "C:\\Users\\Marten\\anaconda3\\lib\\site-packages\\tensorflow\\python\\framework\\dtypes.py:518: FutureWarning: Passing (type, 1) or '1type' as a synonym of type is deprecated; in a future version of numpy, it will be understood as (type, (1,)) / '(1,)type'.\n",
      "  _np_qint16 = np.dtype([(\"qint16\", np.int16, 1)])\n",
      "C:\\Users\\Marten\\anaconda3\\lib\\site-packages\\tensorflow\\python\\framework\\dtypes.py:519: FutureWarning: Passing (type, 1) or '1type' as a synonym of type is deprecated; in a future version of numpy, it will be understood as (type, (1,)) / '(1,)type'.\n",
      "  _np_quint16 = np.dtype([(\"quint16\", np.uint16, 1)])\n",
      "C:\\Users\\Marten\\anaconda3\\lib\\site-packages\\tensorflow\\python\\framework\\dtypes.py:520: FutureWarning: Passing (type, 1) or '1type' as a synonym of type is deprecated; in a future version of numpy, it will be understood as (type, (1,)) / '(1,)type'.\n",
      "  _np_qint32 = np.dtype([(\"qint32\", np.int32, 1)])\n",
      "C:\\Users\\Marten\\anaconda3\\lib\\site-packages\\tensorflow\\python\\framework\\dtypes.py:525: FutureWarning: Passing (type, 1) or '1type' as a synonym of type is deprecated; in a future version of numpy, it will be understood as (type, (1,)) / '(1,)type'.\n",
      "  np_resource = np.dtype([(\"resource\", np.ubyte, 1)])\n",
      "C:\\Users\\Marten\\anaconda3\\lib\\site-packages\\tensorboard\\compat\\tensorflow_stub\\dtypes.py:541: FutureWarning: Passing (type, 1) or '1type' as a synonym of type is deprecated; in a future version of numpy, it will be understood as (type, (1,)) / '(1,)type'.\n",
      "  _np_qint8 = np.dtype([(\"qint8\", np.int8, 1)])\n",
      "C:\\Users\\Marten\\anaconda3\\lib\\site-packages\\tensorboard\\compat\\tensorflow_stub\\dtypes.py:542: FutureWarning: Passing (type, 1) or '1type' as a synonym of type is deprecated; in a future version of numpy, it will be understood as (type, (1,)) / '(1,)type'.\n",
      "  _np_quint8 = np.dtype([(\"quint8\", np.uint8, 1)])\n",
      "C:\\Users\\Marten\\anaconda3\\lib\\site-packages\\tensorboard\\compat\\tensorflow_stub\\dtypes.py:543: FutureWarning: Passing (type, 1) or '1type' as a synonym of type is deprecated; in a future version of numpy, it will be understood as (type, (1,)) / '(1,)type'.\n",
      "  _np_qint16 = np.dtype([(\"qint16\", np.int16, 1)])\n",
      "C:\\Users\\Marten\\anaconda3\\lib\\site-packages\\tensorboard\\compat\\tensorflow_stub\\dtypes.py:544: FutureWarning: Passing (type, 1) or '1type' as a synonym of type is deprecated; in a future version of numpy, it will be understood as (type, (1,)) / '(1,)type'.\n",
      "  _np_quint16 = np.dtype([(\"quint16\", np.uint16, 1)])\n",
      "C:\\Users\\Marten\\anaconda3\\lib\\site-packages\\tensorboard\\compat\\tensorflow_stub\\dtypes.py:545: FutureWarning: Passing (type, 1) or '1type' as a synonym of type is deprecated; in a future version of numpy, it will be understood as (type, (1,)) / '(1,)type'.\n",
      "  _np_qint32 = np.dtype([(\"qint32\", np.int32, 1)])\n",
      "C:\\Users\\Marten\\anaconda3\\lib\\site-packages\\tensorboard\\compat\\tensorflow_stub\\dtypes.py:550: FutureWarning: Passing (type, 1) or '1type' as a synonym of type is deprecated; in a future version of numpy, it will be understood as (type, (1,)) / '(1,)type'.\n",
      "  np_resource = np.dtype([(\"resource\", np.ubyte, 1)])\n"
     ]
    }
   ],
   "source": [
    "import pandas as pd\n",
    "import numpy as np\n",
    "\n",
    "from sklearn.model_selection import train_test_split\n",
    "from sklearn import preprocessing\n",
    "\n",
    "from sklearn.linear_model import LinearRegression, Lasso, Ridge\n",
    "from sklearn.svm import SVC\n",
    "from sklearn.neighbors import KNeighborsRegressor\n",
    "from sklearn.svm import SVR\n",
    "\n",
    "from sklearn.metrics import accuracy_score, mean_squared_error, mean_absolute_error\n",
    "\n",
    "from keras.layers import Dense, BatchNormalization\n",
    "from keras.models import Sequential\n",
    "from keras.optimizers import SGD"
   ]
  },
  {
   "cell_type": "markdown",
   "metadata": {
    "id": "t0NC69KEjjFy"
   },
   "source": [
    "# Preprocessing"
   ]
  },
  {
   "cell_type": "code",
   "execution_count": 2,
   "metadata": {
    "colab": {
     "base_uri": "https://localhost:8080/"
    },
    "executionInfo": {
     "elapsed": 4158,
     "status": "ok",
     "timestamp": 1607875545868,
     "user": {
      "displayName": "Karl Soosalu",
      "photoUrl": "",
      "userId": "05970396744476146123"
     },
     "user_tz": -120
    },
    "id": "rxENGTKqjjGY",
    "outputId": "a409cfd5-3075-4d6e-abfe-4cd352795923"
   },
   "outputs": [
    {
     "name": "stderr",
     "output_type": "stream",
     "text": [
      "C:\\Users\\Marten\\anaconda3\\lib\\site-packages\\IPython\\core\\interactiveshell.py:3063: DtypeWarning: Columns (3) have mixed types.Specify dtype option on import or set low_memory=False.\n",
      "  interactivity=interactivity, compiler=compiler, result=result)\n"
     ]
    }
   ],
   "source": [
    "# Reading data\n",
    "movies = pd.read_csv(\"IMDb movies.csv\")"
   ]
  },
  {
   "cell_type": "code",
   "execution_count": 3,
   "metadata": {
    "colab": {
     "base_uri": "https://localhost:8080/"
    },
    "executionInfo": {
     "elapsed": 26252,
     "status": "ok",
     "timestamp": 1607875567969,
     "user": {
      "displayName": "Karl Soosalu",
      "photoUrl": "",
      "userId": "05970396744476146123"
     },
     "user_tz": -120
    },
    "id": "7_rCfha1HwTW",
    "outputId": "bb16c4f6-575c-490c-95d1-47b356a70c9b"
   },
   "outputs": [
    {
     "name": "stderr",
     "output_type": "stream",
     "text": [
      "C:\\Users\\Marten\\anaconda3\\lib\\site-packages\\pandas\\core\\indexing.py:670: SettingWithCopyWarning: \n",
      "A value is trying to be set on a copy of a slice from a DataFrame\n",
      "\n",
      "See the caveats in the documentation: https://pandas.pydata.org/pandas-docs/stable/user_guide/indexing.html#returning-a-view-versus-a-copy\n",
      "  self._setitem_with_indexer(indexer, value)\n"
     ]
    }
   ],
   "source": [
    "# Converting date_published into year, month and day\n",
    "movies[\"date_published\"].iloc[83917] = \"2019\" #Replacing anomaly\n",
    "date = lambda x: pd.Series([i for i in x.split('-')])\n",
    "newCols = movies['date_published'].apply(date)\n",
    "newCols = newCols.fillna(0)\n",
    "\n",
    "movies[\"year_new\"] = newCols[0]\n",
    "movies[\"month\"] = newCols[1]\n",
    "movies[\"day\"] = newCols[2]"
   ]
  },
  {
   "cell_type": "code",
   "execution_count": 4,
   "metadata": {
    "executionInfo": {
     "elapsed": 26247,
     "status": "ok",
     "timestamp": 1607875567972,
     "user": {
      "displayName": "Karl Soosalu",
      "photoUrl": "",
      "userId": "05970396744476146123"
     },
     "user_tz": -120
    },
    "id": "v0EesMJLz2J6"
   },
   "outputs": [],
   "source": [
    "# Removing columns\n",
    "movies = movies.drop([\"imdb_title_id\", \"title\", \"original_title\", \"year\", \"description\", \"budget\", \"usa_gross_income\", \"worlwide_gross_income\", \"metascore\", \"votes\", \"reviews_from_users\", \"reviews_from_critics\", \"date_published\"], axis=1)"
   ]
  },
  {
   "cell_type": "code",
   "execution_count": 5,
   "metadata": {
    "executionInfo": {
     "elapsed": 26243,
     "status": "ok",
     "timestamp": 1607875567973,
     "user": {
      "displayName": "Karl Soosalu",
      "photoUrl": "",
      "userId": "05970396744476146123"
     },
     "user_tz": -120
    },
    "id": "h3JYd7vtEXjK"
   },
   "outputs": [],
   "source": [
    "movies[\"language\"] = movies.language.replace(\"None\", np.nan)"
   ]
  },
  {
   "cell_type": "code",
   "execution_count": 6,
   "metadata": {
    "executionInfo": {
     "elapsed": 64878,
     "status": "ok",
     "timestamp": 1607875606612,
     "user": {
      "displayName": "Karl Soosalu",
      "photoUrl": "",
      "userId": "05970396744476146123"
     },
     "user_tz": -120
    },
    "id": "WteJ2SKfkKsW"
   },
   "outputs": [],
   "source": [
    "movies = pd.concat([movies.drop('language', 1), movies['language'].str.get_dummies(sep=\", \")], 1)\n",
    "movies = pd.concat([movies.drop('genre', 1), movies['genre'].str.get_dummies(sep=\", \")], 1)\n",
    "movies = pd.concat([movies.drop('country', 1), movies['country'].str.get_dummies(sep=\", \")], 1)"
   ]
  },
  {
   "cell_type": "code",
   "execution_count": 7,
   "metadata": {
    "colab": {
     "base_uri": "https://localhost:8080/",
     "height": 472
    },
    "executionInfo": {
     "elapsed": 65168,
     "status": "ok",
     "timestamp": 1607875606909,
     "user": {
      "displayName": "Karl Soosalu",
      "photoUrl": "",
      "userId": "05970396744476146123"
     },
     "user_tz": -120
    },
    "id": "sy6vm6eqm9f4",
    "outputId": "f3b908df-4efe-49b0-db47-b9951d9e9dc6"
   },
   "outputs": [
    {
     "data": {
      "text/html": [
       "<div>\n",
       "<style scoped>\n",
       "    .dataframe tbody tr th:only-of-type {\n",
       "        vertical-align: middle;\n",
       "    }\n",
       "\n",
       "    .dataframe tbody tr th {\n",
       "        vertical-align: top;\n",
       "    }\n",
       "\n",
       "    .dataframe thead th {\n",
       "        text-align: right;\n",
       "    }\n",
       "</style>\n",
       "<table border=\"1\" class=\"dataframe\">\n",
       "  <thead>\n",
       "    <tr style=\"text-align: right;\">\n",
       "      <th></th>\n",
       "      <th>duration</th>\n",
       "      <th>avg_vote</th>\n",
       "      <th>year_new</th>\n",
       "      <th>month</th>\n",
       "      <th>day</th>\n",
       "      <th>Abkhazian</th>\n",
       "      <th>Aboriginal</th>\n",
       "      <th>Acholi</th>\n",
       "      <th>Afrikaans</th>\n",
       "      <th>Akan</th>\n",
       "      <th>...</th>\n",
       "      <th>Uzbekistan</th>\n",
       "      <th>Vanuatu</th>\n",
       "      <th>Venezuela</th>\n",
       "      <th>Vietnam</th>\n",
       "      <th>West Germany</th>\n",
       "      <th>Yemen</th>\n",
       "      <th>Yugoslavia</th>\n",
       "      <th>Zaire</th>\n",
       "      <th>Zambia</th>\n",
       "      <th>Zimbabwe</th>\n",
       "    </tr>\n",
       "  </thead>\n",
       "  <tbody>\n",
       "    <tr>\n",
       "      <th>0</th>\n",
       "      <td>45</td>\n",
       "      <td>5.9</td>\n",
       "      <td>1894</td>\n",
       "      <td>10</td>\n",
       "      <td>09</td>\n",
       "      <td>0</td>\n",
       "      <td>0</td>\n",
       "      <td>0</td>\n",
       "      <td>0</td>\n",
       "      <td>0</td>\n",
       "      <td>...</td>\n",
       "      <td>0</td>\n",
       "      <td>0</td>\n",
       "      <td>0</td>\n",
       "      <td>0</td>\n",
       "      <td>0</td>\n",
       "      <td>0</td>\n",
       "      <td>0</td>\n",
       "      <td>0</td>\n",
       "      <td>0</td>\n",
       "      <td>0</td>\n",
       "    </tr>\n",
       "    <tr>\n",
       "      <th>1</th>\n",
       "      <td>70</td>\n",
       "      <td>6.1</td>\n",
       "      <td>1906</td>\n",
       "      <td>12</td>\n",
       "      <td>26</td>\n",
       "      <td>0</td>\n",
       "      <td>0</td>\n",
       "      <td>0</td>\n",
       "      <td>0</td>\n",
       "      <td>0</td>\n",
       "      <td>...</td>\n",
       "      <td>0</td>\n",
       "      <td>0</td>\n",
       "      <td>0</td>\n",
       "      <td>0</td>\n",
       "      <td>0</td>\n",
       "      <td>0</td>\n",
       "      <td>0</td>\n",
       "      <td>0</td>\n",
       "      <td>0</td>\n",
       "      <td>0</td>\n",
       "    </tr>\n",
       "    <tr>\n",
       "      <th>2</th>\n",
       "      <td>53</td>\n",
       "      <td>5.8</td>\n",
       "      <td>1911</td>\n",
       "      <td>08</td>\n",
       "      <td>19</td>\n",
       "      <td>0</td>\n",
       "      <td>0</td>\n",
       "      <td>0</td>\n",
       "      <td>0</td>\n",
       "      <td>0</td>\n",
       "      <td>...</td>\n",
       "      <td>0</td>\n",
       "      <td>0</td>\n",
       "      <td>0</td>\n",
       "      <td>0</td>\n",
       "      <td>0</td>\n",
       "      <td>0</td>\n",
       "      <td>0</td>\n",
       "      <td>0</td>\n",
       "      <td>0</td>\n",
       "      <td>0</td>\n",
       "    </tr>\n",
       "    <tr>\n",
       "      <th>3</th>\n",
       "      <td>100</td>\n",
       "      <td>5.2</td>\n",
       "      <td>1912</td>\n",
       "      <td>11</td>\n",
       "      <td>13</td>\n",
       "      <td>0</td>\n",
       "      <td>0</td>\n",
       "      <td>0</td>\n",
       "      <td>0</td>\n",
       "      <td>0</td>\n",
       "      <td>...</td>\n",
       "      <td>0</td>\n",
       "      <td>0</td>\n",
       "      <td>0</td>\n",
       "      <td>0</td>\n",
       "      <td>0</td>\n",
       "      <td>0</td>\n",
       "      <td>0</td>\n",
       "      <td>0</td>\n",
       "      <td>0</td>\n",
       "      <td>0</td>\n",
       "    </tr>\n",
       "    <tr>\n",
       "      <th>4</th>\n",
       "      <td>68</td>\n",
       "      <td>7.0</td>\n",
       "      <td>1911</td>\n",
       "      <td>03</td>\n",
       "      <td>06</td>\n",
       "      <td>0</td>\n",
       "      <td>0</td>\n",
       "      <td>0</td>\n",
       "      <td>0</td>\n",
       "      <td>0</td>\n",
       "      <td>...</td>\n",
       "      <td>0</td>\n",
       "      <td>0</td>\n",
       "      <td>0</td>\n",
       "      <td>0</td>\n",
       "      <td>0</td>\n",
       "      <td>0</td>\n",
       "      <td>0</td>\n",
       "      <td>0</td>\n",
       "      <td>0</td>\n",
       "      <td>0</td>\n",
       "    </tr>\n",
       "    <tr>\n",
       "      <th>...</th>\n",
       "      <td>...</td>\n",
       "      <td>...</td>\n",
       "      <td>...</td>\n",
       "      <td>...</td>\n",
       "      <td>...</td>\n",
       "      <td>...</td>\n",
       "      <td>...</td>\n",
       "      <td>...</td>\n",
       "      <td>...</td>\n",
       "      <td>...</td>\n",
       "      <td>...</td>\n",
       "      <td>...</td>\n",
       "      <td>...</td>\n",
       "      <td>...</td>\n",
       "      <td>...</td>\n",
       "      <td>...</td>\n",
       "      <td>...</td>\n",
       "      <td>...</td>\n",
       "      <td>...</td>\n",
       "      <td>...</td>\n",
       "      <td>...</td>\n",
       "    </tr>\n",
       "    <tr>\n",
       "      <th>85850</th>\n",
       "      <td>95</td>\n",
       "      <td>5.3</td>\n",
       "      <td>2020</td>\n",
       "      <td>01</td>\n",
       "      <td>29</td>\n",
       "      <td>0</td>\n",
       "      <td>0</td>\n",
       "      <td>0</td>\n",
       "      <td>0</td>\n",
       "      <td>0</td>\n",
       "      <td>...</td>\n",
       "      <td>0</td>\n",
       "      <td>0</td>\n",
       "      <td>0</td>\n",
       "      <td>0</td>\n",
       "      <td>0</td>\n",
       "      <td>0</td>\n",
       "      <td>0</td>\n",
       "      <td>0</td>\n",
       "      <td>0</td>\n",
       "      <td>0</td>\n",
       "    </tr>\n",
       "    <tr>\n",
       "      <th>85851</th>\n",
       "      <td>103</td>\n",
       "      <td>7.7</td>\n",
       "      <td>2020</td>\n",
       "      <td>02</td>\n",
       "      <td>13</td>\n",
       "      <td>0</td>\n",
       "      <td>0</td>\n",
       "      <td>0</td>\n",
       "      <td>0</td>\n",
       "      <td>0</td>\n",
       "      <td>...</td>\n",
       "      <td>0</td>\n",
       "      <td>0</td>\n",
       "      <td>0</td>\n",
       "      <td>0</td>\n",
       "      <td>0</td>\n",
       "      <td>0</td>\n",
       "      <td>0</td>\n",
       "      <td>0</td>\n",
       "      <td>0</td>\n",
       "      <td>0</td>\n",
       "    </tr>\n",
       "    <tr>\n",
       "      <th>85852</th>\n",
       "      <td>130</td>\n",
       "      <td>7.9</td>\n",
       "      <td>2019</td>\n",
       "      <td>03</td>\n",
       "      <td>08</td>\n",
       "      <td>0</td>\n",
       "      <td>0</td>\n",
       "      <td>0</td>\n",
       "      <td>0</td>\n",
       "      <td>0</td>\n",
       "      <td>...</td>\n",
       "      <td>0</td>\n",
       "      <td>0</td>\n",
       "      <td>0</td>\n",
       "      <td>0</td>\n",
       "      <td>0</td>\n",
       "      <td>0</td>\n",
       "      <td>0</td>\n",
       "      <td>0</td>\n",
       "      <td>0</td>\n",
       "      <td>0</td>\n",
       "    </tr>\n",
       "    <tr>\n",
       "      <th>85853</th>\n",
       "      <td>98</td>\n",
       "      <td>6.4</td>\n",
       "      <td>2019</td>\n",
       "      <td>03</td>\n",
       "      <td>15</td>\n",
       "      <td>0</td>\n",
       "      <td>0</td>\n",
       "      <td>0</td>\n",
       "      <td>0</td>\n",
       "      <td>0</td>\n",
       "      <td>...</td>\n",
       "      <td>0</td>\n",
       "      <td>0</td>\n",
       "      <td>0</td>\n",
       "      <td>0</td>\n",
       "      <td>0</td>\n",
       "      <td>0</td>\n",
       "      <td>0</td>\n",
       "      <td>0</td>\n",
       "      <td>0</td>\n",
       "      <td>0</td>\n",
       "    </tr>\n",
       "    <tr>\n",
       "      <th>85854</th>\n",
       "      <td>74</td>\n",
       "      <td>6.7</td>\n",
       "      <td>2020</td>\n",
       "      <td>02</td>\n",
       "      <td>05</td>\n",
       "      <td>0</td>\n",
       "      <td>0</td>\n",
       "      <td>0</td>\n",
       "      <td>0</td>\n",
       "      <td>0</td>\n",
       "      <td>...</td>\n",
       "      <td>0</td>\n",
       "      <td>0</td>\n",
       "      <td>0</td>\n",
       "      <td>0</td>\n",
       "      <td>0</td>\n",
       "      <td>0</td>\n",
       "      <td>0</td>\n",
       "      <td>0</td>\n",
       "      <td>0</td>\n",
       "      <td>0</td>\n",
       "    </tr>\n",
       "  </tbody>\n",
       "</table>\n",
       "<p>85855 rows × 491 columns</p>\n",
       "</div>"
      ],
      "text/plain": [
       "       duration  avg_vote year_new month day  Abkhazian  Aboriginal  Acholi  \\\n",
       "0            45       5.9     1894    10  09          0           0       0   \n",
       "1            70       6.1     1906    12  26          0           0       0   \n",
       "2            53       5.8     1911    08  19          0           0       0   \n",
       "3           100       5.2     1912    11  13          0           0       0   \n",
       "4            68       7.0     1911    03  06          0           0       0   \n",
       "...         ...       ...      ...   ...  ..        ...         ...     ...   \n",
       "85850        95       5.3     2020    01  29          0           0       0   \n",
       "85851       103       7.7     2020    02  13          0           0       0   \n",
       "85852       130       7.9     2019    03  08          0           0       0   \n",
       "85853        98       6.4     2019    03  15          0           0       0   \n",
       "85854        74       6.7     2020    02  05          0           0       0   \n",
       "\n",
       "       Afrikaans  Akan  ...  Uzbekistan  Vanuatu  Venezuela  Vietnam  \\\n",
       "0              0     0  ...           0        0          0        0   \n",
       "1              0     0  ...           0        0          0        0   \n",
       "2              0     0  ...           0        0          0        0   \n",
       "3              0     0  ...           0        0          0        0   \n",
       "4              0     0  ...           0        0          0        0   \n",
       "...          ...   ...  ...         ...      ...        ...      ...   \n",
       "85850          0     0  ...           0        0          0        0   \n",
       "85851          0     0  ...           0        0          0        0   \n",
       "85852          0     0  ...           0        0          0        0   \n",
       "85853          0     0  ...           0        0          0        0   \n",
       "85854          0     0  ...           0        0          0        0   \n",
       "\n",
       "       West Germany  Yemen  Yugoslavia  Zaire  Zambia  Zimbabwe  \n",
       "0                 0      0           0      0       0         0  \n",
       "1                 0      0           0      0       0         0  \n",
       "2                 0      0           0      0       0         0  \n",
       "3                 0      0           0      0       0         0  \n",
       "4                 0      0           0      0       0         0  \n",
       "...             ...    ...         ...    ...     ...       ...  \n",
       "85850             0      0           0      0       0         0  \n",
       "85851             0      0           0      0       0         0  \n",
       "85852             0      0           0      0       0         0  \n",
       "85853             0      0           0      0       0         0  \n",
       "85854             0      0           0      0       0         0  \n",
       "\n",
       "[85855 rows x 491 columns]"
      ]
     },
     "execution_count": 7,
     "metadata": {},
     "output_type": "execute_result"
    }
   ],
   "source": [
    "movies = movies.drop([\"production_company\", \"director\", \"actors\", \"writer\"], axis=1)\n",
    "movies"
   ]
  },
  {
   "cell_type": "markdown",
   "metadata": {
    "id": "le2vqASdkDGD"
   },
   "source": [
    "# Machine learning models"
   ]
  },
  {
   "cell_type": "code",
   "execution_count": 8,
   "metadata": {
    "executionInfo": {
     "elapsed": 70997,
     "status": "ok",
     "timestamp": 1607875612748,
     "user": {
      "displayName": "Karl Soosalu",
      "photoUrl": "",
      "userId": "05970396744476146123"
     },
     "user_tz": -120
    },
    "id": "X2wQ3PB-oFjp"
   },
   "outputs": [],
   "source": [
    "X = movies.drop(\"avg_vote\", axis=1)\n",
    "y = movies.avg_vote\n",
    "\n",
    "# Splitting into train and test sets\n",
    "X_train, X_test, y_train, y_test = train_test_split(X.values, y.values, test_size=0.3, random_state=0)"
   ]
  },
  {
   "cell_type": "markdown",
   "metadata": {
    "id": "jNIRD61jlyso"
   },
   "source": [
    "#### Linear regression"
   ]
  },
  {
   "cell_type": "code",
   "execution_count": 9,
   "metadata": {
    "colab": {
     "base_uri": "https://localhost:8080/"
    },
    "executionInfo": {
     "elapsed": 75292,
     "status": "ok",
     "timestamp": 1607875617051,
     "user": {
      "displayName": "Karl Soosalu",
      "photoUrl": "",
      "userId": "05970396744476146123"
     },
     "user_tz": -120
    },
    "id": "pKOxoSkkkBea",
    "outputId": "f681dd3d-387d-4c29-93b2-dbe6322e3c3f"
   },
   "outputs": [
    {
     "name": "stdout",
     "output_type": "stream",
     "text": [
      "Linear regression mean absolute error (MAE): 0.771\n"
     ]
    }
   ],
   "source": [
    "linear = LinearRegression().fit(X_train, y_train)\n",
    "pred_linear = linear.predict(X_test)\n",
    "pred_linear[pred_linear > 10] = 10\n",
    "pred_linear[pred_linear < 0] = 0\n",
    "\n",
    "mae_linear = mean_absolute_error(y_test, pred_linear)\n",
    "print (\"Linear regression mean absolute error (MAE):\", round(mae_linear,4))"
   ]
  },
  {
   "cell_type": "markdown",
   "metadata": {
    "id": "1MfUtY8El8KK"
   },
   "source": [
    "#### Lasso"
   ]
  },
  {
   "cell_type": "code",
   "execution_count": 10,
   "metadata": {
    "colab": {
     "base_uri": "https://localhost:8080/"
    },
    "executionInfo": {
     "elapsed": 79790,
     "status": "ok",
     "timestamp": 1607875621558,
     "user": {
      "displayName": "Karl Soosalu",
      "photoUrl": "",
      "userId": "05970396744476146123"
     },
     "user_tz": -120
    },
    "id": "NxlsvTymlwR6",
    "outputId": "4bda83b0-3dcd-45b2-860a-20316b141a73"
   },
   "outputs": [
    {
     "name": "stdout",
     "output_type": "stream",
     "text": [
      "Lasso mean absolute error (MAE): 0.8934\n"
     ]
    }
   ],
   "source": [
    "lasso= Lasso().fit(X_train, y_train)\n",
    "pred_lasso = lasso.predict(X_test)\n",
    "pred_lasso[pred_lasso > 10] = 10\n",
    "pred_lasso[pred_lasso < 0] = 0\n",
    "\n",
    "mae_lasso = mean_absolute_error(y_test, pred_lasso)\n",
    "print (\"Lasso mean absolute error (MAE):\", round(mae_lasso,4))"
   ]
  },
  {
   "cell_type": "markdown",
   "metadata": {
    "id": "IpAnFBq4n-K5"
   },
   "source": [
    "#### K nearest neighbor regression"
   ]
  },
  {
   "cell_type": "code",
   "execution_count": 11,
   "metadata": {
    "colab": {
     "base_uri": "https://localhost:8080/"
    },
    "executionInfo": {
     "elapsed": 110849,
     "status": "ok",
     "timestamp": 1607875652627,
     "user": {
      "displayName": "Karl Soosalu",
      "photoUrl": "",
      "userId": "05970396744476146123"
     },
     "user_tz": -120
    },
    "id": "viq76lkbnUKA",
    "outputId": "2a5c87af-97ba-4a05-bb7b-9a79d3918ef5"
   },
   "outputs": [
    {
     "name": "stdout",
     "output_type": "stream",
     "text": [
      "Nearest neighbors mean absolute error (MAE): 0.9009\n"
     ]
    }
   ],
   "source": [
    "neighbors= KNeighborsRegressor().fit(X_train, y_train)\n",
    "pred_neighbors = neighbors.predict(X_test)\n",
    "pred_neighbors[pred_neighbors > 10] = 10\n",
    "pred_neighbors[pred_neighbors < 0] = 0\n",
    "\n",
    "mae_neighbors = mean_absolute_error(y_test, pred_neighbors)\n",
    "print (\"Nearest neighbors mean absolute error (MAE):\", round(mae_neighbors,4))"
   ]
  },
  {
   "cell_type": "markdown",
   "metadata": {
    "id": "eHcfO67dvsb_"
   },
   "source": [
    "#### Ridge"
   ]
  },
  {
   "cell_type": "code",
   "execution_count": 12,
   "metadata": {
    "colab": {
     "base_uri": "https://localhost:8080/"
    },
    "executionInfo": {
     "elapsed": 113028,
     "status": "ok",
     "timestamp": 1607875654814,
     "user": {
      "displayName": "Karl Soosalu",
      "photoUrl": "",
      "userId": "05970396744476146123"
     },
     "user_tz": -120
    },
    "id": "e_GVJtYUvbot",
    "outputId": "367b58cb-aa74-4e35-c237-0a977dad1f66"
   },
   "outputs": [
    {
     "name": "stdout",
     "output_type": "stream",
     "text": [
      "Ridge mean absolute error (MAE): 0.7678\n"
     ]
    }
   ],
   "source": [
    "ridge= Ridge().fit(X_train, y_train)\n",
    "pred_ridge = ridge.predict(X_test)\n",
    "pred_ridge[pred_ridge > 10] = 10\n",
    "pred_ridge[pred_ridge < 0] = 0\n",
    "\n",
    "mae_ridge = mean_absolute_error(y_test, pred_ridge)\n",
    "print (\"Ridge mean absolute error (MAE):\", round(mae_ridge,4))"
   ]
  },
  {
   "cell_type": "markdown",
   "metadata": {
    "id": "rFv4hDhXkSRq"
   },
   "source": [
    "# Experimenting with neural networks"
   ]
  },
  {
   "cell_type": "code",
   "execution_count": 13,
   "metadata": {
    "colab": {
     "base_uri": "https://localhost:8080/"
    },
    "id": "lQhYQqzv5hJu",
    "outputId": "eeb08668-3c55-4d90-a6a9-d19f7b516b2b"
   },
   "outputs": [
    {
     "name": "stdout",
     "output_type": "stream",
     "text": [
      "WARNING:tensorflow:From C:\\Users\\Marten\\anaconda3\\lib\\site-packages\\keras\\backend\\tensorflow_backend.py:3313: add_dispatch_support.<locals>.wrapper (from tensorflow.python.ops.array_ops) is deprecated and will be removed in a future version.\n",
      "Instructions for updating:\n",
      "Use tf.where in 2.0, which has the same broadcast rule as np.where\n",
      "Model: \"sequential_1\"\n",
      "_________________________________________________________________\n",
      "Layer (type)                 Output Shape              Param #   \n",
      "=================================================================\n",
      "dense_1 (Dense)              (None, 64)                31424     \n",
      "_________________________________________________________________\n",
      "batch_normalization_1 (Batch (None, 64)                256       \n",
      "_________________________________________________________________\n",
      "dense_2 (Dense)              (None, 32)                2080      \n",
      "_________________________________________________________________\n",
      "batch_normalization_2 (Batch (None, 32)                128       \n",
      "_________________________________________________________________\n",
      "dense_3 (Dense)              (None, 16)                528       \n",
      "_________________________________________________________________\n",
      "batch_normalization_3 (Batch (None, 16)                64        \n",
      "_________________________________________________________________\n",
      "dense_4 (Dense)              (None, 7)                 119       \n",
      "_________________________________________________________________\n",
      "dense_5 (Dense)              (None, 1)                 8         \n",
      "=================================================================\n",
      "Total params: 34,607\n",
      "Trainable params: 34,383\n",
      "Non-trainable params: 224\n",
      "_________________________________________________________________\n"
     ]
    }
   ],
   "source": [
    "X = movies.drop(\"avg_vote\", axis=1)\n",
    "y = movies[[\"avg_vote\"]]\n",
    "\n",
    "# Normalization\n",
    "scalerX= preprocessing.MinMaxScaler()\n",
    "X[['duration',\t'year_new',\t'month',\t'day']] = scalerX.fit_transform(X[['duration',\t'year_new',\t'month',\t'day']])\n",
    "scalery= preprocessing.MinMaxScaler()\n",
    "y = scalery.fit_transform(y[['avg_vote']])\n",
    "\n",
    "X_train, X_test, y_train, y_test = train_test_split(X, y, test_size=0.3, random_state=0)\n",
    "\n",
    "model = Sequential()\n",
    "model.add(Dense(64, activation=\"tanh\", input_shape=(X_train.shape[1],)))\n",
    "model.add(BatchNormalization())\n",
    "model.add(Dense(32, activation=\"tanh\"))\n",
    "model.add(BatchNormalization())\n",
    "model.add(Dense(16, activation=\"selu\"))\n",
    "model.add(BatchNormalization())\n",
    "model.add(Dense(7, activation=\"linear\"))\n",
    "model.add(Dense(1, activation=\"linear\"))\n",
    "model.compile(loss=\"mean_squared_error\", optimizer=\"sgd\")\n",
    "model.summary()"
   ]
  },
  {
   "cell_type": "code",
   "execution_count": 14,
   "metadata": {
    "id": "GmPwQ5pA6hIG"
   },
   "outputs": [
    {
     "name": "stdout",
     "output_type": "stream",
     "text": [
      "WARNING:tensorflow:From C:\\Users\\Marten\\anaconda3\\lib\\site-packages\\keras\\backend\\tensorflow_backend.py:422: The name tf.global_variables is deprecated. Please use tf.compat.v1.global_variables instead.\n",
      "\n",
      "Train on 60098 samples, validate on 25757 samples\n",
      "Epoch 1/4\n",
      "60098/60098 [==============================] - 2s 30us/step - loss: 0.1054 - val_loss: 0.0299\n",
      "Epoch 2/4\n",
      "60098/60098 [==============================] - 1s 22us/step - loss: 0.0268 - val_loss: 0.0206\n",
      "Epoch 3/4\n",
      "60098/60098 [==============================] - 1s 22us/step - loss: 0.0206 - val_loss: 0.0188\n",
      "Epoch 4/4\n",
      "60098/60098 [==============================] - 1s 22us/step - loss: 0.0180 - val_loss: 0.0173\n",
      "Neural networks mean absolute error (MAE): 0.9022\n"
     ]
    }
   ],
   "source": [
    "model.fit(X_train, y_train, epochs=4, validation_data=(X_test, y_test), batch_size=256, verbose=True)\n",
    "\n",
    "y_pred = model.predict(X_test)\n",
    "y_pred = scalery.inverse_transform(y_pred)\n",
    "y_test = scalery.inverse_transform(y_test)\n",
    "\n",
    "mae_neural = mean_absolute_error(y_test, y_pred)\n",
    "print (\"Neural networks mean absolute error (MAE):\", round(mae_neural,4))"
   ]
  },
  {
   "cell_type": "markdown",
   "metadata": {
    "id": "6rUw6rBK03_S"
   },
   "source": [
    "#### Summary"
   ]
  },
  {
   "cell_type": "code",
   "execution_count": 15,
   "metadata": {
    "id": "6TYrfiC02Tg_"
   },
   "outputs": [
    {
     "data": {
      "text/plain": [
       "<matplotlib.axes._subplots.AxesSubplot at 0x1609ab17548>"
      ]
     },
     "execution_count": 15,
     "metadata": {},
     "output_type": "execute_result"
    },
    {
     "data": {
      "image/png": "[encoded data removed]",
      "text/plain": [
       "<Figure size 720x432 with 1 Axes>"
      ]
     },
     "metadata": {},
     "output_type": "display_data"
    }
   ],
   "source": [
    "#Graph\n",
    "import matplotlib.pyplot as plt\n",
    "import matplotlib\n",
    "dframe_linear=round(mae_linear,4)\n",
    "dframe_lasso=round(mae_lasso,4)\n",
    "dframe_neighbors=round(mae_neighbors,4)\n",
    "dframe_ridge=round(mae_ridge,4)\n",
    "dframe_neural=round(mae_neural,4)\n",
    "\n",
    "\n",
    "method_results=[dframe_ridge,dframe_linear,dframe_lasso,dframe_neighbors]\n",
    "method_names=[\"Ridge\",\"Linear Regression\",\"Lasso\",\"K nearest neighbor\"]\n",
    "\n",
    "\n",
    "plt.rcParams['figure.figsize'] = (10,6)\n",
    "matplotlib.style.use('ggplot')\n",
    "dframe=pd.DataFrame({'Method':method_names, 'Mean absolute error':method_results})\n",
    "dframe.sort_values('Mean absolute error',ascending=True).plot.bar(x='Method',y='Mean absolute error',rot=0)\n"
   ]
  },
  {
   "cell_type": "code",
   "execution_count": 18,
   "metadata": {},
   "outputs": [
    {
     "ename": "AttributeError",
     "evalue": "module 'seaborn' has no attribute 'histplot'",
     "output_type": "error",
     "traceback": [
      "\u001b[1;31m---------------------------------------------------------------------------\u001b[0m",
      "\u001b[1;31mAttributeError\u001b[0m                            Traceback (most recent call last)",
      "\u001b[1;32m<ipython-input-18-8a310c43a5e2>\u001b[0m in \u001b[0;36m<module>\u001b[1;34m\u001b[0m\n\u001b[0;32m      5\u001b[0m \u001b[1;33m\u001b[0m\u001b[0m\n\u001b[0;32m      6\u001b[0m \u001b[0mplt\u001b[0m\u001b[1;33m.\u001b[0m\u001b[0mfigure\u001b[0m\u001b[1;33m(\u001b[0m\u001b[0mfigsize\u001b[0m\u001b[1;33m=\u001b[0m\u001b[1;33m(\u001b[0m\u001b[1;36m10\u001b[0m\u001b[1;33m,\u001b[0m\u001b[1;36m20\u001b[0m\u001b[1;33m)\u001b[0m\u001b[1;33m)\u001b[0m\u001b[1;33m\u001b[0m\u001b[1;33m\u001b[0m\u001b[0m\n\u001b[1;32m----> 7\u001b[1;33m \u001b[0max\u001b[0m \u001b[1;33m=\u001b[0m \u001b[0msns\u001b[0m\u001b[1;33m.\u001b[0m\u001b[0mhistplot\u001b[0m\u001b[1;33m(\u001b[0m\u001b[0mx\u001b[0m \u001b[1;33m=\u001b[0m \u001b[1;34m'avg_vote'\u001b[0m\u001b[1;33m,\u001b[0m \u001b[0my\u001b[0m \u001b[1;33m=\u001b[0m \u001b[1;34m'year_new'\u001b[0m\u001b[1;33m,\u001b[0m \u001b[0mdata\u001b[0m \u001b[1;33m=\u001b[0m \u001b[0mmovies_copy\u001b[0m\u001b[1;33m)\u001b[0m\u001b[1;33m\u001b[0m\u001b[1;33m\u001b[0m\u001b[0m\n\u001b[0m\u001b[0;32m      8\u001b[0m \u001b[0mplt\u001b[0m\u001b[1;33m.\u001b[0m\u001b[0mshow\u001b[0m\u001b[1;33m(\u001b[0m\u001b[1;33m)\u001b[0m\u001b[1;33m\u001b[0m\u001b[1;33m\u001b[0m\u001b[0m\n",
      "\u001b[1;31mAttributeError\u001b[0m: module 'seaborn' has no attribute 'histplot'"
     ]
    },
    {
     "data": {
      "text/plain": [
       "<Figure size 720x1440 with 0 Axes>"
      ]
     },
     "metadata": {},
     "output_type": "display_data"
    }
   ],
   "source": [
    "import seaborn as sns\n",
    "\n",
    "movies_copy = movies.copy()\n",
    "movies_copy = movies_copy.sort_values(by='year_new')\n",
    "\n",
    "plt.figure(figsize=(10,20))\n",
    "ax = sns.histplot(x = 'avg_vote', y = 'year_new', data = movies_copy)\n",
    "plt.show()"
   ]
  },
  {
   "cell_type": "code",
   "execution_count": null,
   "metadata": {},
   "outputs": [],
   "source": [
    "movies_copy = movies_copy.sort_values(by='duration')\n",
    "\n",
    "plt.figure(figsize=(10,20))\n",
    "ax = sns.histplot(x = 'avg_vote', y = 'duration', data = movies_copy, color = '#e377c2')\n",
    "plt.ylim(40, 200)\n",
    "plt.show()"
   ]
  }
 ],
 "metadata": {
  "colab": {
   "collapsed_sections": [
    "7Y0DzE59jjHo",
    "yOBlEOGTjjHt",
    "4NtZHO9SjjHw",
    "YYg34BqqjjH4",
    "4ufaBL_njjH4"
   ],
   "name": "IMDb.ipynb",
   "provenance": [],
   "toc_visible": true
  },
  "kernelspec": {
   "display_name": "Python 3",
   "language": "python",
   "name": "python3"
  },
  "language_info": {
   "codemirror_mode": {
    "name": "ipython",
    "version": 3
   },
   "file_extension": ".py",
   "mimetype": "text/x-python",
   "name": "python",
   "nbconvert_exporter": "python",
   "pygments_lexer": "ipython3",
   "version": "3.7.6"
  }
 },
 "nbformat": 4,
 "nbformat_minor": 1
}
